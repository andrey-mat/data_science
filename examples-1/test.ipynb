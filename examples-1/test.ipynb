{
 "cells": [
  {
   "cell_type": "code",
   "execution_count": 29,
   "metadata": {},
   "outputs": [],
   "source": [
    "# Не забудьте импортировать numpy и сразу задать seed 2021\n",
    "import numpy as np\n",
    "np.random.seed(2021)\n",
    "\n",
    "# В simple сохранте случайное число в диапазоне от 0 до 1\n",
    "simple = np.random.rand()\n",
    "\n",
    "# Сгенерируйте 120 чисел в диапазоне от -150 до 2021, сохраните их\n",
    "# в переменную randoms\n",
    "randoms = np.random.uniform(-150, 2021, size=120)\n",
    "\n",
    "\n",
    "# Получите массив из случайных целых чисел от 1 до 100 (включительно)\n",
    "# из 3 строк и 2 столбцов. Сохраните результат в table\n",
    "table = np.random.randint(1, 101, size=(3,2))\n",
    "\n",
    "\n",
    "# В переменную even сохраните четные числа от 2 до 16 (включительно)\n",
    "even = np.arange(2, 17, 2)\n",
    "\n",
    "\n",
    "# Перемешайте числа в even так, чтобы массив even изменился\n",
    "np.random.shuffle(even)\n",
    "\n",
    "# Получите из even 3 числа без повторений. Сохраните их в переменную select\n",
    "select = np.random.choice(even, size=3, replace=False)\n",
    "\n",
    "# Получите переменную triplet, которая должна содержать перемешанные\n",
    "# значения из массива select (сам select измениться не должен)\n",
    "triplet = np.random.permutation(select)"
   ]
  }
 ],
 "metadata": {
  "kernelspec": {
   "display_name": "Python 3.10.5 64-bit",
   "language": "python",
   "name": "python3"
  },
  "language_info": {
   "codemirror_mode": {
    "name": "ipython",
    "version": 3
   },
   "file_extension": ".py",
   "mimetype": "text/x-python",
   "name": "python",
   "nbconvert_exporter": "python",
   "pygments_lexer": "ipython3",
   "version": "3.10.5"
  },
  "orig_nbformat": 4,
  "vscode": {
   "interpreter": {
    "hash": "aee8b7b246df8f9039afb4144a1f6fd8d2ca17a180786b69acc140d282b71a49"
   }
  }
 },
 "nbformat": 4,
 "nbformat_minor": 2
}
